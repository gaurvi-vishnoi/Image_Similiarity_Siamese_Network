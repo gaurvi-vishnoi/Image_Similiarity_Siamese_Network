{
  "nbformat": 4,
  "nbformat_minor": 0,
  "metadata": {
    "colab": {
      "provenance": [],
      "gpuType": "T4"
    },
    "kernelspec": {
      "name": "python3",
      "display_name": "Python 3"
    },
    "language_info": {
      "name": "python"
    },
    "accelerator": "GPU"
  },
  "cells": [
    {
      "cell_type": "markdown",
      "source": [
        "**Importing Libraries**"
      ],
      "metadata": {
        "id": "xJyC7zovIhTO"
      }
    },
    {
      "cell_type": "code",
      "execution_count": 1,
      "metadata": {
        "id": "SzRBMqDVATGs"
      },
      "outputs": [],
      "source": [
        "import random\n",
        "import numpy as np\n",
        "import pandas as pd\n",
        "from tensorflow.keras.datasets import fashion_mnist\n",
        "import tensorflow as tf\n",
        "from tensorflow.keras.models import Sequential, Model\n",
        "from tensorflow.keras.layers import Flatten, Dense, Dot, Lambda, Input\n",
        "from tensorflow.keras.datasets import mnist\n",
        "from tensorflow.keras.optimizers import Adam\n",
        "import matplotlib.pyplot as plt\n",
        "import cv2"
      ]
    },
    {
      "cell_type": "markdown",
      "source": [
        "Loading the data in pairs. The shape of x_train_pairs would be (BatchCount, 2, width, height), 2 meaning we have 2 images to make the pair. The y_train_label will have a 1D array of labels- 0 for dissimilar images and 1 for similar images."
      ],
      "metadata": {
        "id": "QcsQBN-4Ivss"
      }
    },
    {
      "cell_type": "code",
      "source": [
        "(x_train, y_train), (x_test, y_test) = fashion_mnist.load_data()\n",
        "x_train = x_train.astype('float32')\n",
        "x_test = x_test.astype('float32')\n",
        "x_train /= 255.0\n",
        "x_test /= 255.0"
      ],
      "metadata": {
        "colab": {
          "base_uri": "https://localhost:8080/"
        },
        "id": "8YjTG73XA4HJ",
        "outputId": "835d82f5-990f-45d6-c70c-027498b3fe91"
      },
      "execution_count": 2,
      "outputs": [
        {
          "output_type": "stream",
          "name": "stdout",
          "text": [
            "Downloading data from https://storage.googleapis.com/tensorflow/tf-keras-datasets/train-labels-idx1-ubyte.gz\n",
            "29515/29515 [==============================] - 0s 0us/step\n",
            "Downloading data from https://storage.googleapis.com/tensorflow/tf-keras-datasets/train-images-idx3-ubyte.gz\n",
            "26421880/26421880 [==============================] - 0s 0us/step\n",
            "Downloading data from https://storage.googleapis.com/tensorflow/tf-keras-datasets/t10k-labels-idx1-ubyte.gz\n",
            "5148/5148 [==============================] - 0s 0us/step\n",
            "Downloading data from https://storage.googleapis.com/tensorflow/tf-keras-datasets/t10k-images-idx3-ubyte.gz\n",
            "4422102/4422102 [==============================] - 0s 0us/step\n"
          ]
        }
      ]
    },
    {
      "cell_type": "code",
      "source": [
        "digit_indices = [np.where(y_train == i) for i in range(10)]\n",
        "digit_indices"
      ],
      "metadata": {
        "colab": {
          "base_uri": "https://localhost:8080/"
        },
        "id": "VQSKnquAA8vE",
        "outputId": "175ddf0f-c640-4e2d-830f-144a42370a53"
      },
      "execution_count": 3,
      "outputs": [
        {
          "output_type": "execute_result",
          "data": {
            "text/plain": [
              "[(array([    1,     2,     4, ..., 59974, 59985, 59998]),),\n",
              " (array([   16,    21,    38, ..., 59989, 59991, 59996]),),\n",
              " (array([    5,     7,    27, ..., 59977, 59981, 59993]),),\n",
              " (array([    3,    20,    25, ..., 59971, 59980, 59997]),),\n",
              " (array([   19,    22,    24, ..., 59984, 59986, 59990]),),\n",
              " (array([    8,     9,    12, ..., 59983, 59995, 59999]),),\n",
              " (array([   18,    32,    33, ..., 59973, 59987, 59988]),),\n",
              " (array([    6,    14,    41, ..., 59951, 59979, 59992]),),\n",
              " (array([   23,    35,    57, ..., 59962, 59967, 59994]),),\n",
              " (array([    0,    11,    15, ..., 59932, 59970, 59978]),)]"
            ]
          },
          "metadata": {},
          "execution_count": 3
        }
      ]
    },
    {
      "cell_type": "code",
      "source": [
        "# make pairs\n",
        "def make_pairs(x, y):\n",
        "    num_classes = max(y) + 1\n",
        "    digit_indices = [np.where(y == i)[0] for i in range(num_classes)]\n",
        "\n",
        "    pairs = []\n",
        "    labels = []\n",
        "\n",
        "    for idx1 in range(len(x)):\n",
        "        # add a matching example\n",
        "        x1 = x[idx1]\n",
        "        label1 = y[idx1]\n",
        "        idx2 = random.choice(digit_indices[label1])\n",
        "        x2 = x[idx2]\n",
        "\n",
        "        pairs += [[x1, x2]]\n",
        "        labels += [1]\n",
        "\n",
        "        # add a not matching example\n",
        "        label2 = random.randint(0, num_classes-1)\n",
        "        while label2 == label1:\n",
        "            label2 = random.randint(0, num_classes-1)\n",
        "\n",
        "        idx2 = random.choice(digit_indices[label2])\n",
        "        x2 = x[idx2]\n",
        "\n",
        "        pairs += [[x1, x2]]\n",
        "        labels += [0]\n",
        "\n",
        "    return np.array(pairs), np.array(labels)\n",
        "\n",
        "x_train_pairs, y_train_label = make_pairs(x_train, y_train)\n",
        "x_test_pairs, y_test_label = make_pairs(x_test, y_test)"
      ],
      "metadata": {
        "id": "Bch3PfYDBAKP"
      },
      "execution_count": 4,
      "outputs": []
    },
    {
      "cell_type": "code",
      "source": [
        "x_train_pairs = x_train_pairs[...,np.newaxis] # convolution needs to have (28,28,1)\n",
        "x_test_pairs = x_test_pairs[...,np.newaxis]\n",
        "print(x_train_pairs.shape)\n",
        "print(x_test_pairs.shape)"
      ],
      "metadata": {
        "colab": {
          "base_uri": "https://localhost:8080/"
        },
        "id": "L0wIjnTZBOJP",
        "outputId": "67e7ff2c-d49c-44cc-f655-50d64a6c8cc2"
      },
      "execution_count": 5,
      "outputs": [
        {
          "output_type": "stream",
          "name": "stdout",
          "text": [
            "(120000, 2, 28, 28, 1)\n",
            "(20000, 2, 28, 28, 1)\n"
          ]
        }
      ]
    },
    {
      "cell_type": "markdown",
      "source": [
        "**Visualising the data we prepared:**"
      ],
      "metadata": {
        "id": "6IDqahGbI2Z5"
      }
    },
    {
      "cell_type": "code",
      "source": [
        "plt.imshow(x_train_pairs[1701,0]) #the result would be (28,28,1) image of the 1701th row count"
      ],
      "metadata": {
        "colab": {
          "base_uri": "https://localhost:8080/",
          "height": 447
        },
        "id": "BfzojHiyBR5v",
        "outputId": "8589cf17-02f6-40e1-f4e3-1f4f48148937"
      },
      "execution_count": 6,
      "outputs": [
        {
          "output_type": "execute_result",
          "data": {
            "text/plain": [
              "<matplotlib.image.AxesImage at 0x790da838c610>"
            ]
          },
          "metadata": {},
          "execution_count": 6
        },
        {
          "output_type": "display_data",
          "data": {
            "text/plain": [
              "<Figure size 640x480 with 1 Axes>"
            ],
            "image/png": "[encoded data removed]"
          },
          "metadata": {}
        }
      ]
    },
    {
      "cell_type": "code",
      "source": [
        "plt.imshow(x_train_pairs[1701,1]) # A trouser above and a shirt/tshirt below are dissimilar thus label=0\n",
        "print(y_train_label[1701])"
      ],
      "metadata": {
        "colab": {
          "base_uri": "https://localhost:8080/",
          "height": 447
        },
        "id": "fuQZSLZKBUfc",
        "outputId": "312f97e1-a14a-4619-962c-19a8f3eeb0e0"
      },
      "execution_count": 7,
      "outputs": [
        {
          "output_type": "stream",
          "name": "stdout",
          "text": [
            "0\n"
          ]
        },
        {
          "output_type": "display_data",
          "data": {
            "text/plain": [
              "<Figure size 640x480 with 1 Axes>"
            ],
            "image/png": "[encoded data removed]"
          },
          "metadata": {}
        }
      ]
    },
    {
      "cell_type": "markdown",
      "source": [
        "**Defining Siamese Model**"
      ],
      "metadata": {
        "id": "xSC6FfqwJEfV"
      }
    },
    {
      "cell_type": "code",
      "source": [
        "from tensorflow.keras import backend as K\n",
        "from tensorflow.keras.models import Model\n",
        "from tensorflow.keras import layers"
      ],
      "metadata": {
        "id": "Onk-DHg8BXtv"
      },
      "execution_count": 8,
      "outputs": []
    },
    {
      "cell_type": "code",
      "source": [
        "# Euclidean distance function\n",
        "def euclidean_distance(vects):\n",
        "    x, y = vects\n",
        "    sum_square = K.sum(K.square(x - y), axis=1, keepdims=True)\n",
        "    return K.sqrt(K.maximum(sum_square, K.epsilon()))"
      ],
      "metadata": {
        "id": "zoA4dMi4Ba7g"
      },
      "execution_count": 9,
      "outputs": []
    },
    {
      "cell_type": "code",
      "source": [
        "# https://github.com/lukas/ml-class/blob/master/videos/one-shot/One%20Shot.ipynb\n",
        "# Basic model from here.\n",
        "\n",
        "# input = Input((128,128))\n",
        "# x = Flatten()(input)\n",
        "# x = Dense(128, activation='relu')(x)\n",
        "# dense = Model(input, x)\n",
        "\n",
        "# input1 = Input((128,128))\n",
        "# input2 = Input((128,128))\n",
        "\n",
        "# dense1 = dense(input1)\n",
        "# dense2 = dense(input2)\n",
        "\n",
        "# merge_layer = Lambda(euclidean_distance)([dense1,dense2])\n",
        "# dense_layer = Dense(1, activation=\"sigmoid\")(merge_layer)\n",
        "\n",
        "# model = Model(inputs=[input1, input2], outputs=dense_layer)"
      ],
      "metadata": {
        "id": "VDlbGOdlBdcm"
      },
      "execution_count": 10,
      "outputs": []
    },
    {
      "cell_type": "code",
      "source": [
        "initializer = tf.keras.initializers.GlorotNormal()\n",
        "\n",
        "inputs = layers.Input(shape=(28,28,1))\n",
        "x = layers.Conv2D(16, (3,3), activation=tf.keras.layers.LeakyReLU(alpha=0.3), padding='same',\n",
        "                  kernel_initializer=initializer)(inputs)\n",
        "x = layers.Conv2D(32, (3,3), activation=tf.keras.layers.LeakyReLU(alpha=0.3), padding='same',\n",
        "                  kernel_initializer=initializer)(x)\n",
        "x = layers.MaxPooling2D(pool_size=(2,2))(x)\n",
        "x = layers.Conv2D(64, (3,3), activation=tf.keras.layers.LeakyReLU(alpha=0.3), padding='same',\n",
        "                  kernel_initializer=initializer)(x)\n",
        "x = layers.MaxPooling2D(pool_size=(2,2))(x)\n",
        "x = layers.Dropout(0.4)(x)\n",
        "x = layers.Conv2D(128, (3,3), activation=tf.keras.layers.LeakyReLU(alpha=0.3), padding='same',\n",
        "                  kernel_initializer=initializer)(x)\n",
        "x = layers.MaxPooling2D(pool_size=(2,2))(x)\n",
        "x = layers.Dropout(0.4)(x)\n",
        "x = layers.Flatten()(x)\n",
        "x = layers.Dense(64, activation=tf.keras.layers.LeakyReLU(alpha=0.3), kernel_initializer=initializer)(x)\n",
        "x = layers.Dropout(0.2)(x)\n",
        "output = layers.Dense(28)(x)\n",
        "\n",
        "embedding = Model(inputs, output, name=\"Embedding\") #gives 28 embedding output model.\n",
        "\n",
        "imgA = layers.Input(shape=(28,28,1))\n",
        "imgB = layers.Input(shape=(28,28,1))\n",
        "featsA = embedding(imgA)\n",
        "featsB = embedding(imgB)\n",
        "\n",
        "distance = layers.Lambda(euclidean_distance)([featsA, featsB])\n",
        "# print(\"Output of Lambda layer is: \", distance)\n",
        "final_distance = layers.Dense(1, activation=\"sigmoid\")(distance)\n",
        "model = Model(inputs=[imgA, imgB], outputs=final_distance)"
      ],
      "metadata": {
        "colab": {
          "base_uri": "https://localhost:8080/"
        },
        "id": "FV011sD-BkLm",
        "outputId": "6f0dc7d3-6afe-47e8-82cc-a6a30f120437"
      },
      "execution_count": 11,
      "outputs": [
        {
          "output_type": "stream",
          "name": "stderr",
          "text": [
            "/usr/local/lib/python3.10/dist-packages/keras/src/initializers/initializers.py:120: UserWarning: The initializer GlorotNormal is unseeded and being called multiple times, which will return identical values each time (even if the initializer is unseeded). Please update your code to provide a seed to the initializer, or avoid using the same initializer instance more than once.\n",
            "  warnings.warn(\n"
          ]
        }
      ]
    },
    {
      "cell_type": "code",
      "source": [
        "model.compile(loss = \"binary_crossentropy\", optimizer=\"adam\", metrics=[\"accuracy\"])\n",
        "model.summary()"
      ],
      "metadata": {
        "colab": {
          "base_uri": "https://localhost:8080/"
        },
        "id": "y7ypIbr2Bn87",
        "outputId": "5a2cbb1e-4ad6-4ee8-b8e7-f91ed13f8289"
      },
      "execution_count": 12,
      "outputs": [
        {
          "output_type": "stream",
          "name": "stdout",
          "text": [
            "Model: \"model\"\n",
            "__________________________________________________________________________________________________\n",
            " Layer (type)                Output Shape                 Param #   Connected to                  \n",
            "==================================================================================================\n",
            " input_2 (InputLayer)        [(None, 28, 28, 1)]          0         []                            \n",
            "                                                                                                  \n",
            " input_3 (InputLayer)        [(None, 28, 28, 1)]          0         []                            \n",
            "                                                                                                  \n",
            " Embedding (Functional)      (None, 28)                   172764    ['input_2[0][0]',             \n",
            "                                                                     'input_3[0][0]']             \n",
            "                                                                                                  \n",
            " lambda (Lambda)             (None, 1)                    0         ['Embedding[0][0]',           \n",
            "                                                                     'Embedding[1][0]']           \n",
            "                                                                                                  \n",
            " dense_2 (Dense)             (None, 1)                    2         ['lambda[0][0]']              \n",
            "                                                                                                  \n",
            "==================================================================================================\n",
            "Total params: 172766 (674.87 KB)\n",
            "Trainable params: 172766 (674.87 KB)\n",
            "Non-trainable params: 0 (0.00 Byte)\n",
            "__________________________________________________________________________________________________\n"
          ]
        }
      ]
    },
    {
      "cell_type": "code",
      "source": [
        "# Early stopping callback\n",
        "callback = tf.keras.callbacks.EarlyStopping(monitor='val_loss', patience=7)"
      ],
      "metadata": {
        "id": "5E2jvO0EBqvQ"
      },
      "execution_count": 13,
      "outputs": []
    },
    {
      "cell_type": "code",
      "source": [
        "# wandb.init(project=\"siamese\")\n",
        "model.fit([x_train_pairs[:,0], x_train_pairs[:,1]], y_train_label[:], validation_split=0.1,\n",
        "          batch_size=16, epochs=100, callbacks=[callback])"
      ],
      "metadata": {
        "colab": {
          "base_uri": "https://localhost:8080/"
        },
        "id": "u8RHGRQPBt13",
        "outputId": "aa9e62a8-b50e-4e7b-ab18-182a280110dd"
      },
      "execution_count": 14,
      "outputs": [
        {
          "output_type": "stream",
          "name": "stdout",
          "text": [
            "Epoch 1/100\n",
            "6750/6750 [==============================] - 58s 7ms/step - loss: 0.4129 - accuracy: 0.8050 - val_loss: 0.3087 - val_accuracy: 0.8687\n",
            "Epoch 2/100\n",
            "6750/6750 [==============================] - 45s 7ms/step - loss: 0.2956 - accuracy: 0.8810 - val_loss: 0.2201 - val_accuracy: 0.9153\n",
            "Epoch 3/100\n",
            "6750/6750 [==============================] - 44s 6ms/step - loss: 0.2551 - accuracy: 0.8985 - val_loss: 0.2085 - val_accuracy: 0.9221\n",
            "Epoch 4/100\n",
            "6750/6750 [==============================] - 43s 6ms/step - loss: 0.2343 - accuracy: 0.9069 - val_loss: 0.2005 - val_accuracy: 0.9242\n",
            "Epoch 5/100\n",
            "6750/6750 [==============================] - 44s 7ms/step - loss: 0.2216 - accuracy: 0.9115 - val_loss: 0.1702 - val_accuracy: 0.9342\n",
            "Epoch 6/100\n",
            "6750/6750 [==============================] - 44s 7ms/step - loss: 0.2121 - accuracy: 0.9155 - val_loss: 0.1700 - val_accuracy: 0.9341\n",
            "Epoch 7/100\n",
            "6750/6750 [==============================] - 44s 7ms/step - loss: 0.2039 - accuracy: 0.9184 - val_loss: 0.1551 - val_accuracy: 0.9398\n",
            "Epoch 8/100\n",
            "6750/6750 [==============================] - 45s 7ms/step - loss: 0.1976 - accuracy: 0.9219 - val_loss: 0.1768 - val_accuracy: 0.9338\n",
            "Epoch 9/100\n",
            "6750/6750 [==============================] - 44s 6ms/step - loss: 0.1927 - accuracy: 0.9246 - val_loss: 0.1586 - val_accuracy: 0.9388\n",
            "Epoch 10/100\n",
            "6750/6750 [==============================] - 44s 7ms/step - loss: 0.1893 - accuracy: 0.9257 - val_loss: 0.1493 - val_accuracy: 0.9434\n",
            "Epoch 11/100\n",
            "6750/6750 [==============================] - 44s 7ms/step - loss: 0.1848 - accuracy: 0.9272 - val_loss: 0.1604 - val_accuracy: 0.9401\n",
            "Epoch 12/100\n",
            "6750/6750 [==============================] - 44s 6ms/step - loss: 0.1816 - accuracy: 0.9287 - val_loss: 0.1422 - val_accuracy: 0.9456\n",
            "Epoch 13/100\n",
            "6750/6750 [==============================] - 44s 6ms/step - loss: 0.1805 - accuracy: 0.9287 - val_loss: 0.1462 - val_accuracy: 0.9454\n",
            "Epoch 14/100\n",
            "6750/6750 [==============================] - 43s 6ms/step - loss: 0.1778 - accuracy: 0.9298 - val_loss: 0.1330 - val_accuracy: 0.9499\n",
            "Epoch 15/100\n",
            "6750/6750 [==============================] - 44s 7ms/step - loss: 0.1754 - accuracy: 0.9317 - val_loss: 0.1426 - val_accuracy: 0.9443\n",
            "Epoch 16/100\n",
            "6750/6750 [==============================] - 44s 6ms/step - loss: 0.1731 - accuracy: 0.9329 - val_loss: 0.1524 - val_accuracy: 0.9433\n",
            "Epoch 17/100\n",
            "6750/6750 [==============================] - 44s 7ms/step - loss: 0.1716 - accuracy: 0.9339 - val_loss: 0.1352 - val_accuracy: 0.9494\n",
            "Epoch 18/100\n",
            "6750/6750 [==============================] - 44s 7ms/step - loss: 0.1697 - accuracy: 0.9339 - val_loss: 0.1379 - val_accuracy: 0.9489\n",
            "Epoch 19/100\n",
            "6750/6750 [==============================] - 44s 6ms/step - loss: 0.1691 - accuracy: 0.9348 - val_loss: 0.1325 - val_accuracy: 0.9514\n",
            "Epoch 20/100\n",
            "6750/6750 [==============================] - 44s 6ms/step - loss: 0.1686 - accuracy: 0.9347 - val_loss: 0.1323 - val_accuracy: 0.9482\n",
            "Epoch 21/100\n",
            "6750/6750 [==============================] - 44s 7ms/step - loss: 0.1653 - accuracy: 0.9359 - val_loss: 0.1366 - val_accuracy: 0.9495\n",
            "Epoch 22/100\n",
            "6750/6750 [==============================] - 44s 7ms/step - loss: 0.1627 - accuracy: 0.9373 - val_loss: 0.1246 - val_accuracy: 0.9538\n",
            "Epoch 23/100\n",
            "6750/6750 [==============================] - 43s 6ms/step - loss: 0.1635 - accuracy: 0.9368 - val_loss: 0.1328 - val_accuracy: 0.9506\n",
            "Epoch 24/100\n",
            "6750/6750 [==============================] - 44s 6ms/step - loss: 0.1623 - accuracy: 0.9374 - val_loss: 0.1407 - val_accuracy: 0.9485\n",
            "Epoch 25/100\n",
            "6750/6750 [==============================] - 44s 7ms/step - loss: 0.1622 - accuracy: 0.9374 - val_loss: 0.1318 - val_accuracy: 0.9497\n",
            "Epoch 26/100\n",
            "6750/6750 [==============================] - 44s 6ms/step - loss: 0.1598 - accuracy: 0.9390 - val_loss: 0.1345 - val_accuracy: 0.9504\n",
            "Epoch 27/100\n",
            "6750/6750 [==============================] - 44s 7ms/step - loss: 0.1587 - accuracy: 0.9391 - val_loss: 0.1266 - val_accuracy: 0.9535\n",
            "Epoch 28/100\n",
            "6750/6750 [==============================] - 44s 6ms/step - loss: 0.1573 - accuracy: 0.9396 - val_loss: 0.1357 - val_accuracy: 0.9463\n",
            "Epoch 29/100\n",
            "6750/6750 [==============================] - 45s 7ms/step - loss: 0.1565 - accuracy: 0.9407 - val_loss: 0.1347 - val_accuracy: 0.9511\n"
          ]
        },
        {
          "output_type": "execute_result",
          "data": {
            "text/plain": [
              "<keras.src.callbacks.History at 0x790d991f6a10>"
            ]
          },
          "metadata": {},
          "execution_count": 14
        }
      ]
    },
    {
      "cell_type": "code",
      "source": [
        "model.evaluate([x_test_pairs[:,0], x_test_pairs[:,1]], y_test_label)"
      ],
      "metadata": {
        "colab": {
          "base_uri": "https://localhost:8080/"
        },
        "id": "eETQ1IosBwdE",
        "outputId": "3ae74a2e-8dd6-4ef9-c4a6-556b5ee51d84"
      },
      "execution_count": 15,
      "outputs": [
        {
          "output_type": "stream",
          "name": "stdout",
          "text": [
            "625/625 [==============================] - 2s 3ms/step - loss: 0.1609 - accuracy: 0.9402\n"
          ]
        },
        {
          "output_type": "execute_result",
          "data": {
            "text/plain": [
              "[0.16092918813228607, 0.9402499794960022]"
            ]
          },
          "metadata": {},
          "execution_count": 15
        }
      ]
    }
  ]
}